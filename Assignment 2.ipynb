{
 "cells": [
  {
   "cell_type": "code",
   "execution_count": null,
   "metadata": {},
   "outputs": [],
   "source": [
    "#1.What are the two values of the Boolean data type? How do you write them?\n",
    "\n",
    "There two types of boolean data types which are used for assertion purpose when true or false.\n",
    "They are as \n",
    "\n",
    "1. True\n",
    "2. False\n",
    "\n",
    "#2. What are the three different types of Boolean operators?\n",
    "\n",
    "The boolean values are used for the logical operation and the operators are\n",
    "\n",
    "1. And\n",
    "2. Or\n",
    "3. Not\n",
    "\n",
    "#3. Make a list of each Boolean operators truth tables (i.e. every possible combination of Boolean\n",
    "#values for the operator and what it evaluate ).\n",
    "\n",
    "#AND Operation\n",
    "True and True = True\n",
    "True and False = False\n",
    "False and True = False\n",
    "False and False = False\n",
    "\n",
    "#Or Operation\n",
    "True Or True = True\n",
    "True Or False  = True\n",
    "False Or True = True\n",
    "False Or False = False\n",
    "\n",
    "\n",
    "#Not\n",
    "\n",
    "Not True = False\n",
    "Not False = True\n",
    "\n",
    "#. What are the values of the following expressions?\n",
    "\n",
    "(5 > 4) and (3 == 5) --- False\n",
    "not (5 > 4) -------------False\n",
    "(5 > 4) or (3 == 5) ----- True\n",
    "not ((5 > 4) or (3 == 5))-- False\n",
    "(True and True) and (True == False) --False\n",
    "(not False) or (not True) -- True\n",
    "\n",
    "\n",
    "# 5. What are the six comparison operators?\n",
    "\n",
    "The comparision operators are used for the value comaprision among the variables \n",
    "Ther are 6 comaprision operators\n",
    "\n",
    ">, <, >=,<=,==,!=\n",
    "\n",
    "\n",
    "# 6. How do you tell the difference between the equal to and assignment operators?Describe a\n",
    "condition and when you would use one.\n",
    "\n",
    "Equals to (==) Operator is used when there is a comaprision between the valuse of two variables. If the value of 2 variables are same\n",
    "then we should use equals to operator\n",
    "eg-  if a==10:\n",
    "         print(\"True\")\n",
    "here the value of a compares with 10 and it should be true.\n",
    "\n",
    "\n",
    "Assignment opertor= The assignment operator is used when we are assigning a value to a variable for the manipulation purpose\n",
    "eg- f= 990\n",
    "    c=\"Learn python in 2022\"\n",
    "    \n",
    "\n",
    "7. Identify the three blocks in this code:\n",
    "spam = 0\n",
    "if spam == 10:\n",
    "print('ggs') -- it's true thus the statement gets executed \n",
    "if spam >5:\n",
    "print('bacon')-- True and statment gets executed\n",
    "else:\n",
    "print('ham')\n",
    "print('spam')\n",
    "print('spam')\n",
    "\n",
    "\n"
   ]
  },
  {
   "cell_type": "code",
   "execution_count": 2,
   "metadata": {},
   "outputs": [
    {
     "name": "stdout",
     "output_type": "stream",
     "text": [
      "Please enter a number:- 3\n",
      "Greetings!\n"
     ]
    }
   ],
   "source": [
    "\"\"\"8. Write code that prints Hello if 1 is stored in spam, prints Howdy if 2 is stored in spam, and prints\n",
    "Greetings! if anything else is stored in spam.\"\"\"\n",
    "\n",
    "spam=int(input(\"Please enter a number:- \"))\n",
    "\n",
    "if spam==1:\n",
    "    print(\"Hello\")\n",
    "elif spam==2:\n",
    "    print(\"Howdy\")\n",
    "else:\n",
    "    print(\"Greetings!\")\n"
   ]
  },
  {
   "cell_type": "code",
   "execution_count": null,
   "metadata": {},
   "outputs": [],
   "source": [
    "#9.If your programme is stuck in an endless loop, what keys you’ll press?\n",
    "\n",
    "To terminate the infinite loop then we need to press ctrl+c"
   ]
  },
  {
   "cell_type": "code",
   "execution_count": null,
   "metadata": {},
   "outputs": [],
   "source": [
    "#10. How can you tell the difference between break and continue?\n",
    "\n",
    "Break= the statement is used when we want to break the loop after the loop reached at a certain value.\n",
    "\n",
    "Continue  -- The continue statment is used when we want to continue the statement after the completion of the loop and it again goes throws\n",
    "the same loop.\n",
    "\n",
    "\n",
    "#11. In a for loop, what is the difference between range(10), range(0, 10), and range(0, 10, 1)?\n",
    "\n",
    "In for roop \n",
    "range(10)-- it will iterate the loop from 0 to 9 with an ineterval of 1\n",
    "\n",
    "range(0,10)-- it will iterate the loop from 0 to 9 with an ineterval of 1\n",
    "\n",
    " range(0, 10, 1) -- it will iterate the loop from 0 to 9 with an ineterval of 1\n"
   ]
  },
  {
   "cell_type": "code",
   "execution_count": 5,
   "metadata": {},
   "outputs": [
    {
     "name": "stdout",
     "output_type": "stream",
     "text": [
      "1 2 3 4 5 6 7 8 9 10 "
     ]
    }
   ],
   "source": [
    "#12. Write a short program that prints the numbers 1 to 10 using a for loop. Then write an equivalent\n",
    "#program that prints the numbers 1 to 10 using a while loop.\n",
    "\n",
    "for i in range(1,11):\n",
    "    print(i,end=\" \")\n",
    "\n",
    "\n",
    "\n"
   ]
  },
  {
   "cell_type": "code",
   "execution_count": 6,
   "metadata": {},
   "outputs": [
    {
     "name": "stdout",
     "output_type": "stream",
     "text": [
      "1 2 3 4 5 6 7 8 9 10 "
     ]
    }
   ],
   "source": [
    "i=1    \n",
    "while i<=10:\n",
    "    print(i,end=\" \")\n",
    "    i+=1"
   ]
  },
  {
   "cell_type": "code",
   "execution_count": null,
   "metadata": {},
   "outputs": [],
   "source": [
    "#13. If you had a function named bacon() inside a module named spam, how would you call it after\n",
    "#importing spam?\n",
    "\n",
    "#from module import function\n",
    "\n",
    "from spam import bacon\n"
   ]
  },
  {
   "cell_type": "code",
   "execution_count": null,
   "metadata": {},
   "outputs": [],
   "source": []
  }
 ],
 "metadata": {
  "kernelspec": {
   "display_name": "Python 3",
   "language": "python",
   "name": "python3"
  },
  "language_info": {
   "codemirror_mode": {
    "name": "ipython",
    "version": 3
   },
   "file_extension": ".py",
   "mimetype": "text/x-python",
   "name": "python",
   "nbconvert_exporter": "python",
   "pygments_lexer": "ipython3",
   "version": "3.6.5"
  }
 },
 "nbformat": 4,
 "nbformat_minor": 2
}
