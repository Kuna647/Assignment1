{
 "cells": [
  {
   "cell_type": "code",
   "execution_count": null,
   "metadata": {},
   "outputs": [],
   "source": [
    "\"\"\"1. In the below elements which of them are values or an expression? eg:- values can be\n",
    "integer or string and expressions will be mathematical operators.\"\"\"\n",
    "\n",
    "Expressions- *,-,/,+\n",
    "values - \"hello\",-87.8,6\n",
    "\n",
    "#2. What is the difference between string and variable?\n",
    "String:- 1. It is a kind of data type which are used to store only its kind of variable.\n",
    "         2. The string values can be kept inside a single, double and triple quotes ('',\" \",\"\"\" \"\"\")\n",
    "         3. The multi valued strings are kept inside a triple quote.\n",
    "         4. STrings follow index concepts and each character from the string can be retrieved.\n",
    "        \n",
    "Variable: It is a memory space in a storage where values can be stored and retrieved when required.\n",
    "          The id of the variable is reference to value in the memory space.\n",
    "\n",
    "        \n",
    "#3. Describe three different data types.\n",
    "\n",
    "There are various data types which python supports, they are\n",
    " 1.Integer,float,string,boolean\n",
    " Integer- This is the kind of data type which stores only the data of its kind and is the smallest kind of type among all the data\n",
    "types.\n",
    "Float- It stores only the float kind of data and the integer kind of data can be type casted into float kind of value and vicversa.\n",
    "On type conversion of higher to lower then there is some probability of data loss where as for lower to higher then there won't be any probability of data loss.\n",
    "\n",
    "String:- 1. It is a kind of data type which are used to store only its kind of variable.\n",
    "         2. The string values can be kept inside a single, double and triple quotes ('',\" \",\"\"\" \"\"\")\n",
    "         3. The multi valued strings are kept inside a triple quote.\n",
    "         4. STrings follow index concepts and each character from the string can be retrieved.\n",
    "\n",
    "#4. What is an expression made up of? What do all expressions do?\n",
    "\n",
    "An expression is something that contains both the operand and operator.\n",
    "operand- the variable to be manipulated\n",
    "operator- the symbol used for manipulation of the variable.\n",
    "\n",
    "5. This assignment statements, like spam = 10. What is the difference between an\n",
    "expression and a statement?\n",
    "\n",
    "An expression is something that contains both operator and operand where they are used for manpulation where as a statement is somthing\n",
    "that is used to assign some value to a variable and to be used for manipulation.\n",
    "\n"
   ]
  },
  {
   "cell_type": "code",
   "execution_count": 2,
   "metadata": {},
   "outputs": [
    {
     "data": {
      "text/plain": [
       "23"
      ]
     },
     "execution_count": 2,
     "metadata": {},
     "output_type": "execute_result"
    }
   ],
   "source": [
    "#6. After running the following code, what does the variable bacon contain?\n",
    "bacon = 22\n",
    "bacon + 1"
   ]
  },
  {
   "cell_type": "code",
   "execution_count": 5,
   "metadata": {},
   "outputs": [
    {
     "data": {
      "text/plain": [
       "'spamspamspam'"
      ]
     },
     "execution_count": 5,
     "metadata": {},
     "output_type": "execute_result"
    }
   ],
   "source": [
    "#7. What should the values of the following two terms be?\n",
    "\n",
    "'spam'+'spamspam'"
   ]
  },
  {
   "cell_type": "code",
   "execution_count": 6,
   "metadata": {},
   "outputs": [
    {
     "data": {
      "text/plain": [
       "'I have eaten99Burritos.'"
      ]
     },
     "execution_count": 6,
     "metadata": {},
     "output_type": "execute_result"
    }
   ],
   "source": [
    "'spam'*3\n",
    "'I have eaten'+'99'+'Burritos.'"
   ]
  },
  {
   "cell_type": "code",
   "execution_count": null,
   "metadata": {},
   "outputs": [],
   "source": [
    "#8. Why is eggs a valid variable name while 100 is invalid?\n",
    "\n",
    "Always a varible starts with an alphabet and it should be started with any other character.\n",
    "\n",
    "#9. What three functions can be used to get the integer, floating-point number, or string\n",
    "#version of a value?\n",
    "\n",
    "the inbuilts functions used to get\n",
    "Integer = int()\n",
    "float= float()\n",
    "string= str()\n",
    "\n",
    "#10. Why does this expression cause an error? How can you fix it?\n",
    "'I have eaten'+99+'burritos.'\n",
    "\n",
    "The above expression should cause a value error, as for the string concatenation all the data types should be of string type.\n",
    "thus to fix the issue we need to convert the integer value 99 into string\n",
    "\n",
    "fix-  'I have eaten'+'99'+'Burritos.'"
   ]
  }
 ],
 "metadata": {
  "kernelspec": {
   "display_name": "Python 3",
   "language": "python",
   "name": "python3"
  },
  "language_info": {
   "codemirror_mode": {
    "name": "ipython",
    "version": 3
   },
   "file_extension": ".py",
   "mimetype": "text/x-python",
   "name": "python",
   "nbconvert_exporter": "python",
   "pygments_lexer": "ipython3",
   "version": "3.6.5"
  }
 },
 "nbformat": 4,
 "nbformat_minor": 2
}
