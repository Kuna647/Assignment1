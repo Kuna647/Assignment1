{
 "cells": [
  {
   "cell_type": "code",
   "execution_count": 3,
   "id": "70dd32fa",
   "metadata": {},
   "outputs": [
    {
     "name": "stdout",
     "output_type": "stream",
     "text": [
      "Enter a number:-3\n",
      "Enter another number- 0\n"
     ]
    },
    {
     "ename": "AssertionError",
     "evalue": "y should not be zero",
     "output_type": "error",
     "traceback": [
      "\u001b[1;31m---------------------------------------------------------------------------\u001b[0m",
      "\u001b[1;31mAssertionError\u001b[0m                            Traceback (most recent call last)",
      "Input \u001b[1;32mIn [3]\u001b[0m, in \u001b[0;36m<cell line: 7>\u001b[1;34m()\u001b[0m\n\u001b[0;32m      4\u001b[0m x\u001b[38;5;241m=\u001b[39m\u001b[38;5;28mint\u001b[39m(\u001b[38;5;28minput\u001b[39m(\u001b[38;5;124m\"\u001b[39m\u001b[38;5;124mEnter a number:-\u001b[39m\u001b[38;5;124m\"\u001b[39m))\n\u001b[0;32m      5\u001b[0m y\u001b[38;5;241m=\u001b[39m\u001b[38;5;28mint\u001b[39m(\u001b[38;5;28minput\u001b[39m(\u001b[38;5;124m\"\u001b[39m\u001b[38;5;124mEnter another number- \u001b[39m\u001b[38;5;124m\"\u001b[39m))\n\u001b[1;32m----> 7\u001b[0m \u001b[38;5;28;01massert\u001b[39;00m y\u001b[38;5;241m>\u001b[39m\u001b[38;5;241m0\u001b[39m,\u001b[38;5;124m\"\u001b[39m\u001b[38;5;124my should not be zero\u001b[39m\u001b[38;5;124m\"\u001b[39m \n\u001b[0;32m      9\u001b[0m \u001b[38;5;28mprint\u001b[39m(x\u001b[38;5;241m/\u001b[39my)\n",
      "\u001b[1;31mAssertionError\u001b[0m: y should not be zero"
     ]
    }
   ],
   "source": [
    "1. #Create an assert statement that throws an AssertionError if the variable spam is a negative\n",
    "#integer.\n",
    "\n",
    "x=int(input(\"Enter a number:-\"))\n",
    "y=int(input(\"Enter another number- \"))\n",
    "\n",
    "assert y>0,\"y should not be zero\" \n",
    "\n",
    "print(x/y)"
   ]
  },
  {
   "cell_type": "code",
   "execution_count": 4,
   "id": "3bc44b46",
   "metadata": {},
   "outputs": [
    {
     "data": {
      "text/plain": [
       "\"2. Write an assert statement that triggers an AssertionError if the variables eggs and bacon contain\\nstrings that are the same as each other, even if their cases are different (that is, 'hello' and 'hello' are\\nconsidered the same, and 'goodbye'and 'GOODbye' are also considered the same).\""
      ]
     },
     "execution_count": 4,
     "metadata": {},
     "output_type": "execute_result"
    }
   ],
   "source": [
    "\"\"\"2. Write an assert statement that triggers an AssertionError if the variables eggs and bacon contain\n",
    "strings that are the same as each other, even if their cases are different (that is, 'hello' and 'hello' are\n",
    "considered the same, and 'goodbye'and 'GOODbye' are also considered the same).\"\"\""
   ]
  },
  {
   "cell_type": "code",
   "execution_count": 7,
   "id": "390baa5f",
   "metadata": {},
   "outputs": [
    {
     "name": "stdout",
     "output_type": "stream",
     "text": [
      "Enter a string:- TESTPOOL\n",
      "Enter another string:- testpool\n"
     ]
    },
    {
     "ename": "AssertionError",
     "evalue": "Both the variables are same",
     "output_type": "error",
     "traceback": [
      "\u001b[1;31m---------------------------------------------------------------------------\u001b[0m",
      "\u001b[1;31mAssertionError\u001b[0m                            Traceback (most recent call last)",
      "Input \u001b[1;32mIn [7]\u001b[0m, in \u001b[0;36m<cell line: 4>\u001b[1;34m()\u001b[0m\n\u001b[0;32m      1\u001b[0m eggs\u001b[38;5;241m=\u001b[39m\u001b[38;5;28minput\u001b[39m(\u001b[38;5;124m\"\u001b[39m\u001b[38;5;124mEnter a string:- \u001b[39m\u001b[38;5;124m\"\u001b[39m)\n\u001b[0;32m      2\u001b[0m bacon\u001b[38;5;241m=\u001b[39m\u001b[38;5;28minput\u001b[39m(\u001b[38;5;124m\"\u001b[39m\u001b[38;5;124mEnter another string:- \u001b[39m\u001b[38;5;124m\"\u001b[39m)\n\u001b[1;32m----> 4\u001b[0m \u001b[38;5;28;01massert\u001b[39;00m eggs\u001b[38;5;241m.\u001b[39mlower()\u001b[38;5;241m==\u001b[39mbacon\u001b[38;5;241m.\u001b[39mupper(),\u001b[38;5;124m\"\u001b[39m\u001b[38;5;124mBoth the variables are same\u001b[39m\u001b[38;5;124m\"\u001b[39m\n\u001b[0;32m      5\u001b[0m \u001b[38;5;28;01massert\u001b[39;00m eggs\u001b[38;5;241m.\u001b[39mupper()\u001b[38;5;241m==\u001b[39mbacon\u001b[38;5;241m.\u001b[39mlower(),\u001b[38;5;124m\"\u001b[39m\u001b[38;5;124mBoth the variables are same\u001b[39m\u001b[38;5;124m\"\u001b[39m\n\u001b[0;32m      7\u001b[0m \u001b[38;5;28mprint\u001b[39m(\u001b[38;5;124m\"\u001b[39m\u001b[38;5;124mboth the variables should not be same\u001b[39m\u001b[38;5;124m\"\u001b[39m)\n",
      "\u001b[1;31mAssertionError\u001b[0m: Both the variables are same"
     ]
    }
   ],
   "source": [
    "eggs=input(\"Enter a string:- \")\n",
    "bacon=input(\"Enter another string:- \")\n",
    "\n",
    "assert eggs.lower()==bacon.upper(),\"Both the variables are same\"\n",
    "assert eggs.upper()==bacon.lower(),\"Both the variables are same\"\n",
    "\n",
    "print(\"both the variables should not be same\")"
   ]
  },
  {
   "cell_type": "code",
   "execution_count": 14,
   "id": "d49530f1",
   "metadata": {},
   "outputs": [
    {
     "ename": "AssertionError",
     "evalue": "Always triggers the same assertion error",
     "output_type": "error",
     "traceback": [
      "\u001b[1;31m---------------------------------------------------------------------------\u001b[0m",
      "\u001b[1;31mAssertionError\u001b[0m                            Traceback (most recent call last)",
      "Input \u001b[1;32mIn [14]\u001b[0m, in \u001b[0;36m<cell line: 3>\u001b[1;34m()\u001b[0m\n\u001b[0;32m      1\u001b[0m \u001b[38;5;66;03m#Create an assert statement that throws an AssertionError every time.\u001b[39;00m\n\u001b[1;32m----> 3\u001b[0m \u001b[38;5;28;01massert\u001b[39;00m \u001b[38;5;28;01mFalse\u001b[39;00m,\u001b[38;5;124m\"\u001b[39m\u001b[38;5;124mAlways triggers the same assertion error\u001b[39m\u001b[38;5;124m\"\u001b[39m\n",
      "\u001b[1;31mAssertionError\u001b[0m: Always triggers the same assertion error"
     ]
    }
   ],
   "source": [
    "#Create an assert statement that throws an AssertionError every time.\n",
    "\n",
    "assert False,\"Always triggers the same assertion error\""
   ]
  },
  {
   "cell_type": "code",
   "execution_count": 16,
   "id": "93aa673d",
   "metadata": {},
   "outputs": [],
   "source": [
    "#4. What are the two lines that must be present in your software in order to call logging.debug()?\n",
    "\n",
    "\"\"\"To be able to call logging.debug(), you must have these two lines at the start of your program: \"\"\"\n",
    "\n",
    "import logging as lg\n",
    "lg.basicConfig(level=lg.DEBUG, format=' %(asctime)s - %(levelname)s - %(message)s')"
   ]
  },
  {
   "cell_type": "code",
   "execution_count": 17,
   "id": "c12956a2",
   "metadata": {},
   "outputs": [],
   "source": [
    "\"\"\"5. What are the two lines that your program must have in order to have logging.debug() send a\n",
    "logging message to a file named programLog.txt?\"\"\"\n",
    "\n",
    "import logging as lg\n",
    "lg.basicConfig(filename=\"programLog.txt\",level=lg.DEBUG,format=' %(asctime)s - %(levelname)s - %(message)s')"
   ]
  },
  {
   "cell_type": "code",
   "execution_count": 18,
   "id": "7099e813",
   "metadata": {},
   "outputs": [
    {
     "data": {
      "text/plain": [
       "'\\nDEBUG\\nINFO\\nWARNING, ERROR, and CRITICAL\\n'"
      ]
     },
     "execution_count": 18,
     "metadata": {},
     "output_type": "execute_result"
    }
   ],
   "source": [
    "#6. What are the five levels of logging?\n",
    "\"\"\"\n",
    "DEBUG\n",
    "INFO\n",
    "WARNING, ERROR, and CRITICAL\n",
    "\"\"\""
   ]
  },
  {
   "cell_type": "code",
   "execution_count": 19,
   "id": "8b69a700",
   "metadata": {},
   "outputs": [],
   "source": [
    "#7. What line of code would you add to your software to disable all logging messages?\n",
    "import logging as lg\n",
    "\n",
    "lg.disable(lg.CRITICAL)\n"
   ]
  },
  {
   "cell_type": "code",
   "execution_count": 20,
   "id": "f87972c3",
   "metadata": {},
   "outputs": [
    {
     "data": {
      "text/plain": [
       "'You can disable logging messages without removing the logging function calls.\\nYou can selectively disable lower-level logging messages (by selecting the higher level logging levels)\\nYou can create logging messages and can be segregated based on type of message(levels of logging)\\nLogging messages provides a timestamp.'"
      ]
     },
     "execution_count": 20,
     "metadata": {},
     "output_type": "execute_result"
    }
   ],
   "source": [
    "#8.Why is using logging messages better than using print() to display the same message?\n",
    "\n",
    "\"\"\"You can disable logging messages without removing the logging function calls.\n",
    "You can selectively disable lower-level logging messages (by selecting the higher level logging levels)\n",
    "You can create logging messages and can be segregated based on type of message(levels of logging)\n",
    "Logging messages provides a timestamp.\"\"\""
   ]
  },
  {
   "cell_type": "code",
   "execution_count": 21,
   "id": "28633e17",
   "metadata": {},
   "outputs": [
    {
     "data": {
      "text/plain": [
       "'\\nThe Step button will move the debugger into a function call. \\nThe Over button will quickly execute the function call without stepping into it. \\nThe Out button will quickly execute the rest of the code until it steps out of the function it currently is in.\\n'"
      ]
     },
     "execution_count": 21,
     "metadata": {},
     "output_type": "execute_result"
    }
   ],
   "source": [
    "#9. What are the differences between the Step Over, Step In, and Step Out buttons in the debugger?\n",
    "\"\"\"\n",
    "The Step button will move the debugger into a function call. \n",
    "The Over button will quickly execute the function call without stepping into it. \n",
    "The Out button will quickly execute the rest of the code until it steps out of the function it currently is in.\n",
    "\"\"\""
   ]
  },
  {
   "cell_type": "code",
   "execution_count": 22,
   "id": "a5e5ff46",
   "metadata": {},
   "outputs": [
    {
     "data": {
      "text/plain": [
       "'When click on Continue, the debugger will stop when the program tion will reach the end or reache at a break point'"
      ]
     },
     "execution_count": 22,
     "metadata": {},
     "output_type": "execute_result"
    }
   ],
   "source": [
    "#10.After you click Continue, when will the debugger stop ?\n",
    "\"When click on Continue, the debugger will stop when the program tion will reach the end or reache at a break point\""
   ]
  },
  {
   "cell_type": "code",
   "execution_count": 23,
   "id": "c71aa359",
   "metadata": {},
   "outputs": [
    {
     "data": {
      "text/plain": [
       "'A debugger is setting a line of code thatcauses the debugger to pause when the program execution reach the line'"
      ]
     },
     "execution_count": 23,
     "metadata": {},
     "output_type": "execute_result"
    }
   ],
   "source": [
    "#11. What is the concept of a breakpoint?\n",
    "\"\"\"A debugger is setting a line of code thatcauses the debugger to pause when the program execution reach the line\"\"\""
   ]
  },
  {
   "cell_type": "code",
   "execution_count": null,
   "id": "e595eade",
   "metadata": {},
   "outputs": [],
   "source": []
  }
 ],
 "metadata": {
  "kernelspec": {
   "display_name": "Python 3 (ipykernel)",
   "language": "python",
   "name": "python3"
  },
  "language_info": {
   "codemirror_mode": {
    "name": "ipython",
    "version": 3
   },
   "file_extension": ".py",
   "mimetype": "text/x-python",
   "name": "python",
   "nbconvert_exporter": "python",
   "pygments_lexer": "ipython3",
   "version": "3.9.12"
  }
 },
 "nbformat": 4,
 "nbformat_minor": 5
}
