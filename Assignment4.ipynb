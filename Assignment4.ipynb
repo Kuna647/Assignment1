{
 "cells": [
  {
   "cell_type": "code",
   "execution_count": 1,
   "metadata": {},
   "outputs": [
    {
     "name": "stdout",
     "output_type": "stream",
     "text": [
      "<class 'list'>\n"
     ]
    }
   ],
   "source": [
    "### 1. What exactly is []?\n",
    "\n",
    "### It represents an empty list.\n",
    "### to declare an empty list we need to write as below syntx\n",
    "\n",
    "l=[]\n",
    "print(type(l))"
   ]
  },
  {
   "cell_type": "code",
   "execution_count": 2,
   "metadata": {},
   "outputs": [
    {
     "name": "stdout",
     "output_type": "stream",
     "text": [
      "[2, 4, 'Hello', 8, 10]\n"
     ]
    }
   ],
   "source": [
    "# 2. In a list of values stored in a variable called spam, how would you assign the value hello as the\n",
    "# third value? (Assume [2, 4, 6, 8, 10] are in spam.)\n",
    "\n",
    "spam =[2,4,6,8,10]\n",
    "spam[2]=\"Hello\"\n",
    "print(spam)\n",
    "\n",
    "\n"
   ]
  },
  {
   "cell_type": "code",
   "execution_count": 3,
   "metadata": {},
   "outputs": [
    {
     "data": {
      "text/plain": [
       "'d'"
      ]
     },
     "execution_count": 3,
     "metadata": {},
     "output_type": "execute_result"
    }
   ],
   "source": [
    "spam=['a','b','c','d']\n",
    "\n",
    "# 3. What is the value of spam[int(int('3' * 2) / 11)]?\n",
    "\n",
    "spam[int(int('3' * 2) / 11)]\n"
   ]
  },
  {
   "cell_type": "code",
   "execution_count": 4,
   "metadata": {},
   "outputs": [
    {
     "data": {
      "text/plain": [
       "'d'"
      ]
     },
     "execution_count": 4,
     "metadata": {},
     "output_type": "execute_result"
    }
   ],
   "source": [
    "# 4. What is the value of spam[-1]?\n",
    "\n",
    "spam[-1]"
   ]
  },
  {
   "cell_type": "code",
   "execution_count": 6,
   "metadata": {},
   "outputs": [
    {
     "data": {
      "text/plain": [
       "['a', 'b']"
      ]
     },
     "execution_count": 6,
     "metadata": {},
     "output_type": "execute_result"
    }
   ],
   "source": [
    "# 5. What is the value of spam[:2]?\n",
    "spam[:2]"
   ]
  },
  {
   "cell_type": "code",
   "execution_count": 7,
   "metadata": {},
   "outputs": [
    {
     "data": {
      "text/plain": [
       "1"
      ]
     },
     "execution_count": 7,
     "metadata": {},
     "output_type": "execute_result"
    }
   ],
   "source": [
    "# Let's pretend bacon has the list [3.14, 'cat', 11,'cat',True] for the next three questions.\n",
    "\n",
    "# 6. What is the value of bacon.index('cat')?\n",
    "\n",
    "bacon= [3.14, 'cat', 11,'cat',True]\n",
    "\n",
    "bacon.index('cat')\n"
   ]
  },
  {
   "cell_type": "code",
   "execution_count": 8,
   "metadata": {},
   "outputs": [
    {
     "data": {
      "text/plain": [
       "[3.14, 'cat', 11, 'cat', True, 99]"
      ]
     },
     "execution_count": 8,
     "metadata": {},
     "output_type": "execute_result"
    }
   ],
   "source": [
    "# 7. How does bacon.append(99) change the look of the list value in bacon?\n",
    "\n",
    "bacon.append(99)\n",
    "bacon\n"
   ]
  },
  {
   "cell_type": "code",
   "execution_count": 9,
   "metadata": {},
   "outputs": [
    {
     "data": {
      "text/plain": [
       "[3.14, 11, 'cat', True, 99]"
      ]
     },
     "execution_count": 9,
     "metadata": {},
     "output_type": "execute_result"
    }
   ],
   "source": [
    "# 8. How does bacon.remove('cat') change the look of the list in bacon?\n",
    "\n",
    "bacon.remove('cat')\n",
    "bacon"
   ]
  },
  {
   "cell_type": "code",
   "execution_count": null,
   "metadata": {},
   "outputs": [],
   "source": [
    "# 9. What are the list concatenation and list replication operators?\n",
    "\n",
    "List conctenation operator - +,append, and extend are three different ways to concatenate 2 strings\n",
    "List replication - * is the list replication operator\n"
   ]
  },
  {
   "cell_type": "code",
   "execution_count": null,
   "metadata": {},
   "outputs": [],
   "source": [
    "# 10. What is difference between the list methods append() and insert()?\n",
    "\n",
    "Append() will add the element to the list at the end.\n",
    "Index doesn't require to add an element using append()\n",
    "Insertion order remains preserved in append() method\n",
    "\n",
    "Insert:-\n",
    "    \n",
    "insert()- in this method the element is added into a specified position\n",
    "Index required and the insertion order is not preserved."
   ]
  },
  {
   "cell_type": "code",
   "execution_count": null,
   "metadata": {},
   "outputs": [],
   "source": [
    "# 11. What are the two methods for removing items from a list?\n",
    "\n",
    "The are 2 different methods to remove elements from the list\n",
    "\n",
    "list.remove(\"element\")- will remove the 1st occured element in the list.\n",
    "list.pop() - will display the last element of the list and will be displayed and the list won't completely remove the element from the list\n",
    "del list[index] - it will remove the element at the desired position permanently.\n"
   ]
  },
  {
   "cell_type": "code",
   "execution_count": null,
   "metadata": {},
   "outputs": [],
   "source": [
    "# 12. Describe how list values and string values are identical.\n",
    "\n",
    "The values in the list are called elements which are collection of same and heterogenious type.\n",
    "Similallrly string is also a collection of elements but the only difference is string should have elements\n",
    "of same data type.\n"
   ]
  },
  {
   "cell_type": "code",
   "execution_count": null,
   "metadata": {},
   "outputs": [],
   "source": [
    "# 13. What's the difference between tuples and lists?\n",
    "\n",
    "List:-\n",
    "    1. Collection of both homegenious and heterogenius elements enclosed inside a square bracket[] is know as list where \n",
    "    insertion order is preserved.\n",
    "    2. Lists are mutable in nature.\n",
    "    3. The lists are scalable i.e can be maximized and minimized.\n",
    "    4. List follows index concept to retrieve and store data inside it.\n",
    "    5. When there is change in data required then we should use list as it is mutable.\n",
    "Tuple:-\n",
    "    1. Collection of both homegenious and heterogenius elements enclosed inside a parantisis () is know as list where \n",
    "    insertion order is not preserved.\n",
    "    2. tuples are immutable in nature.\n",
    "    3. The lists are not scalable.\n",
    "    4. tuple follows index concept to retrieve and store data inside it.\n",
    "    5. When there is data requirement is fixed then we should use list as it is mutable\n",
    "    "
   ]
  },
  {
   "cell_type": "code",
   "execution_count": 14,
   "metadata": {},
   "outputs": [
    {
     "data": {
      "text/plain": [
       "tuple"
      ]
     },
     "execution_count": 14,
     "metadata": {},
     "output_type": "execute_result"
    }
   ],
   "source": [
    "# 14. How do you type a tuple value that only contains the integer 42?\n",
    "\n",
    "t=(42,)\n",
    "type(t)"
   ]
  },
  {
   "cell_type": "code",
   "execution_count": 16,
   "metadata": {},
   "outputs": [
    {
     "data": {
      "text/plain": [
       "tuple"
      ]
     },
     "execution_count": 16,
     "metadata": {},
     "output_type": "execute_result"
    }
   ],
   "source": [
    "# 15. How do you get a list values tuple form? How do you get a tuple values list form?\n",
    "\n",
    "list=[(1,2,3,4),('a','b','c',88),(\"Test\",\"Python\")]\n",
    "type(list)\n",
    "Tup= ([1,2,3,4,5,\"Ram\"],[\"python\",\"Spark\",'DE',\"MongoDB\"])\n",
    "type(Tup)"
   ]
  },
  {
   "cell_type": "code",
   "execution_count": null,
   "metadata": {},
   "outputs": [],
   "source": [
    "# 16. Variables that contain list values are not necessarily lists themselves. Instead, what do they\n",
    "contain?\n",
    "\n",
    "Variables will contain references to list values rather than list values themselves, that are collectively knows as list.\n"
   ]
  },
  {
   "cell_type": "code",
   "execution_count": 17,
   "metadata": {},
   "outputs": [
    {
     "name": "stdout",
     "output_type": "stream",
     "text": [
      "Elements from li1\n",
      "1 2 [3, 5] 4 \r\n",
      "1 2 [99, 5] 4 \r\n",
      "The original elements in li1\n",
      "1 2 [3, 5] 4 "
     ]
    }
   ],
   "source": [
    "# 17. How do you distinguish between copy.copy() and copy.deepcopy()?\n",
    "\n",
    "import copy\n",
    "  \n",
    "# initializing list 1\n",
    "li1 = [1, 2, [3,5], 4]\n",
    "  \n",
    "# using deepcopy to deep copy \n",
    "li2 = copy.deepcopy(li1)\n",
    "\n",
    "#Original elemnets before changing the elements in li1\n",
    "\n",
    "print(\"Elements from li1\")\n",
    "for i in li1:\n",
    "    print(i,end=\" \")\n",
    "\n",
    "print(\"\\r\")\n",
    "\n",
    "#Adding new elements to li2\n",
    "\n",
    "li2[2][0]=99\n",
    "\n",
    "\n",
    "#change reflected in li2\n",
    "\n",
    "for i in li2:\n",
    "    print(i,end=\" \")\n",
    "\n",
    "print(\"\\r\")\n",
    "\n",
    "#Change not reflceted in the original list\n",
    "#as it is deepcopy\n",
    "\n",
    "print(\"The original elements in li1\")\n",
    "for i in li1:\n",
    "    print(i,end=\" \")\n",
    "    \n",
    "\n",
    "\"\"\"In deepcopy recurisive copying occurs with each of the elements present in the lius\n",
    "any change to the deepcopy doesn't reflect to the original list\"\"\""
   ]
  },
  {
   "cell_type": "code",
   "execution_count": 18,
   "metadata": {},
   "outputs": [
    {
     "name": "stdout",
     "output_type": "stream",
     "text": [
      "Elements from li1\n",
      "1 2 [3, 5] 4 \r\n",
      "1 2 [99, 5] 4 \r\n",
      "The original elements in li1\n",
      "1 2 [99, 5] 4 "
     ]
    }
   ],
   "source": [
    "\"\"\"In copy.copy copying occurs with each of the elements present in the lius\n",
    "any change to the copy reflects to the original list\"\"\"\n",
    "\n",
    "import copy\n",
    "  \n",
    "# initializing list 1\n",
    "li1 = [1, 2, [3,5], 4]\n",
    "  \n",
    "# using deepcopy to deep copy \n",
    "li2 = copy.copy(li1)\n",
    "\n",
    "#Original elemnets before changing the elements in li1\n",
    "\n",
    "print(\"Elements from li1\")\n",
    "for i in li1:\n",
    "    print(i,end=\" \")\n",
    "\n",
    "print(\"\\r\")\n",
    "\n",
    "#Adding new elements to li2\n",
    "\n",
    "li2[2][0]=99\n",
    "\n",
    "\n",
    "#change reflected in li2\n",
    "\n",
    "for i in li2:\n",
    "    print(i,end=\" \")\n",
    "\n",
    "print(\"\\r\")\n",
    "\n",
    "#Changes  reflceted in the original list\n",
    "#as it is copy.copy\n",
    "\n",
    "print(\"The original elements in li1\")\n",
    "for i in li1:\n",
    "    print(i,end=\" \")"
   ]
  },
  {
   "cell_type": "code",
   "execution_count": null,
   "metadata": {},
   "outputs": [],
   "source": []
  }
 ],
 "metadata": {
  "kernelspec": {
   "display_name": "Python 3",
   "language": "python",
   "name": "python3"
  },
  "language_info": {
   "codemirror_mode": {
    "name": "ipython",
    "version": 3
   },
   "file_extension": ".py",
   "mimetype": "text/x-python",
   "name": "python",
   "nbconvert_exporter": "python",
   "pygments_lexer": "ipython3",
   "version": "3.6.5"
  }
 },
 "nbformat": 4,
 "nbformat_minor": 2
}
