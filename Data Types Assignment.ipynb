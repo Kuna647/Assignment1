{
 "cells": [
  {
   "cell_type": "code",
   "execution_count": null,
   "metadata": {},
   "outputs": [],
   "source": [
    "l = [3,4,5,6,7 , [23,456,67,8,78,78] , [345,56,87,8,98,9] , (234,6657,6) , {\"key1\" :\"sudh\" , 234:[23,45,656]}]\n",
    "\n",
    "#1 . Try to reverse a list\n",
    "print(\"The reversed list is \",l[::-1])\n",
    "print(\"The reversed list is \",l.reverse())\n",
    "\n",
    "#Alternate way to reverse a list\n",
    "l1=[]\n",
    "i=-1\n",
    "n=len(l)\n",
    "while i>=-n:\n",
    "        l1.append(l[i])\n",
    "        i=i-1\n",
    "print(\"The reversed list is \",l1)\n",
    "\n",
    "#2. try to access 234 out of this list\n",
    "print(\"The extracted out put is \",l[7][0])\n",
    "\n",
    "#3 . try to access 456\n",
    "print(\"The extracted output is\",l[5][1])\n",
    "\n",
    "#4. Try to extract only a list collection form list l\n",
    "#i=0\n",
    "for i in l:\n",
    "    if type(i)==list:\n",
    "        print(i)\n",
    "print(\"Thanks for confirmation\")\n",
    "\n",
    "#5.Try to extract \"sudh\".\n",
    "\n",
    "#print(len(l))\n",
    "print(\"The extarcted element is\",l[8][\"key1\"])\n",
    "print(\"The extarcted element is\",l[8].keys())\n",
    "\n",
    "#6.Try to list all the key in dict element avaible in list\n",
    "print(\"The extarcted element is\",l[8].keys())\n",
    "\n",
    "#7.Try to extract all the value element form dict available in list\n",
    "print(\"The extarcted element is\",l[8].values())\n",
    "\n",
    "\n",
    "\n",
    "\n",
    "\n",
    "\n",
    "\n",
    "\n"
   ]
  }
 ],
 "metadata": {
  "kernelspec": {
   "display_name": "Python 3",
   "language": "python",
   "name": "python3"
  },
  "language_info": {
   "codemirror_mode": {
    "name": "ipython",
    "version": 3
   },
   "file_extension": ".py",
   "mimetype": "text/x-python",
   "name": "python",
   "nbconvert_exporter": "python",
   "pygments_lexer": "ipython3",
   "version": "3.6.5"
  }
 },
 "nbformat": 4,
 "nbformat_minor": 2
}
