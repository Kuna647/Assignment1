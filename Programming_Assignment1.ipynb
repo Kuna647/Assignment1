{
 "cells": [
  {
   "cell_type": "code",
   "execution_count": 1,
   "id": "9b002ab0",
   "metadata": {},
   "outputs": [
    {
     "name": "stdout",
     "output_type": "stream",
     "text": [
      "Hello Python\n"
     ]
    }
   ],
   "source": [
    "#1. Write a Python program to print 'Hello Python'?\n",
    "\n",
    "def Hello():\n",
    "    print(\"Hello Python\")\n",
    "\n",
    "Hello()\n"
   ]
  },
  {
   "cell_type": "code",
   "execution_count": 2,
   "id": "a2b1f204",
   "metadata": {},
   "outputs": [
    {
     "name": "stdout",
     "output_type": "stream",
     "text": [
      "Enter a no-4\n",
      "Enter another no-5\n"
     ]
    },
    {
     "data": {
      "text/plain": [
       "(9, 0.8)"
      ]
     },
     "execution_count": 2,
     "metadata": {},
     "output_type": "execute_result"
    }
   ],
   "source": [
    "#2. Write a Python program to do arithmetical operations addition and division.?\n",
    "\n",
    "def arithematics(x,y):\n",
    "    return (x+y,x/y)\n",
    "\n",
    "x=int(input(\"Enter a no-\"))\n",
    "y=int(input(\"Enter another no-\"))\n",
    "\n",
    "arithematics(x,y)\n",
    "\n",
    "\n",
    "\n"
   ]
  },
  {
   "cell_type": "code",
   "execution_count": 4,
   "id": "29d56962",
   "metadata": {},
   "outputs": [
    {
     "name": "stdout",
     "output_type": "stream",
     "text": [
      "Enter a base-2\n",
      "Enter height no-4\n"
     ]
    },
    {
     "data": {
      "text/plain": [
       "4.0"
      ]
     },
     "execution_count": 4,
     "metadata": {},
     "output_type": "execute_result"
    }
   ],
   "source": [
    "#3. Write a Python program to find the area of a triangle?\n",
    "\n",
    "def area(base,height):\n",
    "    area=0.5*base*height\n",
    "    return area\n",
    "\n",
    "x=int(input(\"Enter a base-\"))\n",
    "y=int(input(\"Enter height no-\"))\n",
    "\n",
    "area(x,y)"
   ]
  },
  {
   "cell_type": "code",
   "execution_count": 6,
   "id": "359ade6e",
   "metadata": {},
   "outputs": [
    {
     "name": "stdout",
     "output_type": "stream",
     "text": [
      "Enter a no-4\n",
      "Enter another no-5\n"
     ]
    },
    {
     "data": {
      "text/plain": [
       "(5, 4)"
      ]
     },
     "execution_count": 6,
     "metadata": {},
     "output_type": "execute_result"
    }
   ],
   "source": [
    "#4. Write a Python program to swap two variables?\n",
    "\n",
    "def swap(a,b):\n",
    "    a = a + b;\n",
    "    b = a - b;\n",
    "    a = a - b;\n",
    "    \n",
    "    return(a,b)\n",
    "\n",
    "x=int(input(\"Enter a no-\"))\n",
    "y=int(input(\"Enter another no-\"))\n",
    "\n",
    "swap(x,y)"
   ]
  },
  {
   "cell_type": "code",
   "execution_count": 21,
   "id": "cd735e11",
   "metadata": {},
   "outputs": [
    {
     "name": "stdout",
     "output_type": "stream",
     "text": [
      "6 0.6059090195173465\n"
     ]
    }
   ],
   "source": [
    "#5. Write a Python program to generate a random number?\n",
    "\n",
    "import random\n",
    "num=random.randint(3,100)\n",
    "num1=random.random()\n",
    "\n",
    "print(num,num1)"
   ]
  },
  {
   "cell_type": "code",
   "execution_count": null,
   "id": "99abc305",
   "metadata": {},
   "outputs": [],
   "source": []
  },
  {
   "cell_type": "code",
   "execution_count": null,
   "id": "50125ecd",
   "metadata": {},
   "outputs": [],
   "source": []
  }
 ],
 "metadata": {
  "kernelspec": {
   "display_name": "Python 3 (ipykernel)",
   "language": "python",
   "name": "python3"
  },
  "language_info": {
   "codemirror_mode": {
    "name": "ipython",
    "version": 3
   },
   "file_extension": ".py",
   "mimetype": "text/x-python",
   "name": "python",
   "nbconvert_exporter": "python",
   "pygments_lexer": "ipython3",
   "version": "3.9.12"
  }
 },
 "nbformat": 4,
 "nbformat_minor": 5
}
