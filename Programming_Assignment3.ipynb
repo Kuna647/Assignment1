{
 "cells": [
  {
   "cell_type": "code",
   "execution_count": 20,
   "id": "83b0b09a",
   "metadata": {},
   "outputs": [
    {
     "name": "stdout",
     "output_type": "stream",
     "text": [
      "Please enter a number:- 87746463\n",
      "not a prime numner\n"
     ]
    }
   ],
   "source": [
    "#4. Write a Python Program to Check Prime Number?\n",
    "\n",
    "def prime(num):\n",
    "    count=0\n",
    "    if num<=1:\n",
    "        return False\n",
    "    else:\n",
    "        for i in range(1,num+1):\n",
    "            if num%i==0:\n",
    "                count+=1\n",
    "    if count==2:\n",
    "        print(\"It's prime number\")\n",
    "    else:\n",
    "        print(\"not a prime numner\")\n",
    "        \n",
    "num=int(input(\"Please enter a number:- \"))       \n",
    "prime(num)"
   ]
  },
  {
   "cell_type": "code",
   "execution_count": 31,
   "id": "38406bc3",
   "metadata": {},
   "outputs": [
    {
     "name": "stdout",
     "output_type": "stream",
     "text": [
      "Please enter a number:- 10\n",
      "Please enter a number:- 20\n",
      "11\n",
      "13\n",
      "17\n",
      "19\n"
     ]
    }
   ],
   "source": [
    "#5. Write a Python Program to Print all Prime Numbers in an Interval of 1-10000?\n",
    "\n",
    "def prime(lower,upper):\n",
    "    for num in range(lower, upper + 1):\n",
    "        if num>1:\n",
    "            \n",
    "            for i in range(2, num):\n",
    "                if (num % i) == 0:\n",
    "                    break\n",
    "            else:\n",
    "                print(num)\n",
    "    \n",
    "lower=int(input(\"Please enter a number:- \"))\n",
    "upper=int(input(\"Please enter a number:- \"))\n",
    "prime(lower,upper)"
   ]
  },
  {
   "cell_type": "code",
   "execution_count": 33,
   "id": "ac50bea7",
   "metadata": {},
   "outputs": [
    {
     "name": "stdout",
     "output_type": "stream",
     "text": [
      "enter a year:-2004\n",
      "2004 is a leap year\n"
     ]
    }
   ],
   "source": [
    "#3. Write a Python Program to Check Leap Year?\n",
    "\n",
    "def leap(year):\n",
    "    if (year % 400 == 0) and (year % 100 == 0):\n",
    "        print(\"{0} is a leap year\".format(year))\n",
    "        \n",
    "    elif (year % 4 == 0) and (year % 100 != 0):\n",
    "        print(\"{0} is a leap year\".format(year))\n",
    "    else:\n",
    "        print(\"Not a leap year\")\n",
    "\n",
    "year=int(input(\"enter a year:-\"))\n",
    "leap(year)\n"
   ]
  },
  {
   "cell_type": "code",
   "execution_count": 39,
   "id": "dc2dfdaf",
   "metadata": {},
   "outputs": [
    {
     "name": "stdout",
     "output_type": "stream",
     "text": [
      "Please enter a number:- -99.99\n",
      "-99.99 is a negative number\n"
     ]
    }
   ],
   "source": [
    "#1. Write a Python Program to Check if a Number is Positive, Negative or Zero?\n",
    "\n",
    "def checkNum(num):\n",
    "    if (num < 0):\n",
    "        print(\"{0} is a negative number\".format(num))\n",
    "    elif (num > 0):\n",
    "        print(\"{0} is a positive number\".format(num))\n",
    "    elif num==0:\n",
    "        print(\"{0} is a zero\".format(num))\n",
    "    else:\n",
    "        print(\"Not a number\")\n",
    "\n",
    "num=float(input(\"Please enter a number:- \"))        \n",
    "checkNum(num)"
   ]
  },
  {
   "cell_type": "code",
   "execution_count": 43,
   "id": "c5f38245",
   "metadata": {},
   "outputs": [
    {
     "name": "stdout",
     "output_type": "stream",
     "text": [
      "Please enter a number:- 1001\n",
      "Odd number\n"
     ]
    }
   ],
   "source": [
    "#2. Write a Python Program to Check if a Number is Odd or Even?\n",
    "def OddEven(num):\n",
    "    if (num== 0):\n",
    "        print(\"{0} is a special number zero\".format(num))\n",
    "    elif (num % 2== 0):\n",
    "        print(\"{0} is an even number\".format(num))\n",
    "    else:\n",
    "        print(\"Odd number\")\n",
    "\n",
    "num=float(input(\"Please enter a number:- \"))        \n",
    "OddEven(num)\n"
   ]
  },
  {
   "cell_type": "code",
   "execution_count": null,
   "id": "6b04d86d",
   "metadata": {},
   "outputs": [],
   "source": []
  }
 ],
 "metadata": {
  "kernelspec": {
   "display_name": "Python 3 (ipykernel)",
   "language": "python",
   "name": "python3"
  },
  "language_info": {
   "codemirror_mode": {
    "name": "ipython",
    "version": 3
   },
   "file_extension": ".py",
   "mimetype": "text/x-python",
   "name": "python",
   "nbconvert_exporter": "python",
   "pygments_lexer": "ipython3",
   "version": "3.9.12"
  }
 },
 "nbformat": 4,
 "nbformat_minor": 5
}
